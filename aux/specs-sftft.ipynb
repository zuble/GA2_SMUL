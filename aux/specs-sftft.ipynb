version https://git-lfs.github.com/spec/v1
oid sha256:e195284c808b9940de005a19415e3a5197c8dcdf59d6d7e1cafcc3db352ea2a4
size 15301080
