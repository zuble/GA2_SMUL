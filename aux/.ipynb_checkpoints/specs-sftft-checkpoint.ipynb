version https://git-lfs.github.com/spec/v1
oid sha256:4ff6a81cca9871a0ad262d6029412132d0e1cc153a7d4ded70c2a3494cc95886
size 15300963
