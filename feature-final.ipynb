version https://git-lfs.github.com/spec/v1
oid sha256:a1e2fb7c0a181c017b5d0f3420ddee8e4078dd68b7f9f2fbfa1b3c4e0c9b8424
size 964013
